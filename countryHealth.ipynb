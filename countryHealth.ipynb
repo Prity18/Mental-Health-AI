{
 "cells": [
  {
   "cell_type": "code",
   "execution_count": 1,
   "source": [
    "import pandas as pd\r\n",
    "import numpy as np"
   ],
   "outputs": [],
   "metadata": {}
  },
  {
   "cell_type": "code",
   "execution_count": 7,
   "source": [
    "dataset=pd.read_csv('mndd.csv')\r\n",
    "dataset"
   ],
   "outputs": [
    {
     "output_type": "execute_result",
     "data": {
      "text/html": [
       "<div>\n",
       "<style scoped>\n",
       "    .dataframe tbody tr th:only-of-type {\n",
       "        vertical-align: middle;\n",
       "    }\n",
       "\n",
       "    .dataframe tbody tr th {\n",
       "        vertical-align: top;\n",
       "    }\n",
       "\n",
       "    .dataframe thead th {\n",
       "        text-align: right;\n",
       "    }\n",
       "</style>\n",
       "<table border=\"1\" class=\"dataframe\">\n",
       "  <thead>\n",
       "    <tr style=\"text-align: right;\">\n",
       "      <th></th>\n",
       "      <th>Entity</th>\n",
       "      <th>Code</th>\n",
       "      <th>Year</th>\n",
       "      <th>Schizophrenia (%)</th>\n",
       "      <th>Bipolar disorder (%)</th>\n",
       "      <th>Eating disorders (%)</th>\n",
       "      <th>Anxiety disorders (%)</th>\n",
       "      <th>Drug use disorders (%)</th>\n",
       "      <th>Depression (%)</th>\n",
       "      <th>Alcohol use disorders (%)</th>\n",
       "    </tr>\n",
       "  </thead>\n",
       "  <tbody>\n",
       "    <tr>\n",
       "      <th>0</th>\n",
       "      <td>Afghanistan</td>\n",
       "      <td>AFG</td>\n",
       "      <td>1990</td>\n",
       "      <td>0.160560</td>\n",
       "      <td>0.697779</td>\n",
       "      <td>0.101855</td>\n",
       "      <td>4.828830</td>\n",
       "      <td>1.677082</td>\n",
       "      <td>4.071831</td>\n",
       "      <td>0.672404</td>\n",
       "    </tr>\n",
       "    <tr>\n",
       "      <th>1</th>\n",
       "      <td>Afghanistan</td>\n",
       "      <td>AFG</td>\n",
       "      <td>1991</td>\n",
       "      <td>0.160312</td>\n",
       "      <td>0.697961</td>\n",
       "      <td>0.099313</td>\n",
       "      <td>4.829740</td>\n",
       "      <td>1.684746</td>\n",
       "      <td>4.079531</td>\n",
       "      <td>0.671768</td>\n",
       "    </tr>\n",
       "    <tr>\n",
       "      <th>2</th>\n",
       "      <td>Afghanistan</td>\n",
       "      <td>AFG</td>\n",
       "      <td>1992</td>\n",
       "      <td>0.160135</td>\n",
       "      <td>0.698107</td>\n",
       "      <td>0.096692</td>\n",
       "      <td>4.831108</td>\n",
       "      <td>1.694334</td>\n",
       "      <td>4.088358</td>\n",
       "      <td>0.670644</td>\n",
       "    </tr>\n",
       "    <tr>\n",
       "      <th>3</th>\n",
       "      <td>Afghanistan</td>\n",
       "      <td>AFG</td>\n",
       "      <td>1993</td>\n",
       "      <td>0.160037</td>\n",
       "      <td>0.698257</td>\n",
       "      <td>0.094336</td>\n",
       "      <td>4.830864</td>\n",
       "      <td>1.705320</td>\n",
       "      <td>4.096190</td>\n",
       "      <td>0.669738</td>\n",
       "    </tr>\n",
       "    <tr>\n",
       "      <th>4</th>\n",
       "      <td>Afghanistan</td>\n",
       "      <td>AFG</td>\n",
       "      <td>1994</td>\n",
       "      <td>0.160022</td>\n",
       "      <td>0.698469</td>\n",
       "      <td>0.092439</td>\n",
       "      <td>4.829423</td>\n",
       "      <td>1.716069</td>\n",
       "      <td>4.099582</td>\n",
       "      <td>0.669260</td>\n",
       "    </tr>\n",
       "    <tr>\n",
       "      <th>...</th>\n",
       "      <td>...</td>\n",
       "      <td>...</td>\n",
       "      <td>...</td>\n",
       "      <td>...</td>\n",
       "      <td>...</td>\n",
       "      <td>...</td>\n",
       "      <td>...</td>\n",
       "      <td>...</td>\n",
       "      <td>...</td>\n",
       "      <td>...</td>\n",
       "    </tr>\n",
       "    <tr>\n",
       "      <th>6463</th>\n",
       "      <td>Zimbabwe</td>\n",
       "      <td>ZWE</td>\n",
       "      <td>2013</td>\n",
       "      <td>0.155670</td>\n",
       "      <td>0.607993</td>\n",
       "      <td>0.117248</td>\n",
       "      <td>3.090168</td>\n",
       "      <td>0.766280</td>\n",
       "      <td>3.128192</td>\n",
       "      <td>1.515641</td>\n",
       "    </tr>\n",
       "    <tr>\n",
       "      <th>6464</th>\n",
       "      <td>Zimbabwe</td>\n",
       "      <td>ZWE</td>\n",
       "      <td>2014</td>\n",
       "      <td>0.155993</td>\n",
       "      <td>0.608610</td>\n",
       "      <td>0.118073</td>\n",
       "      <td>3.093964</td>\n",
       "      <td>0.768914</td>\n",
       "      <td>3.140290</td>\n",
       "      <td>1.515470</td>\n",
       "    </tr>\n",
       "    <tr>\n",
       "      <th>6465</th>\n",
       "      <td>Zimbabwe</td>\n",
       "      <td>ZWE</td>\n",
       "      <td>2015</td>\n",
       "      <td>0.156465</td>\n",
       "      <td>0.609363</td>\n",
       "      <td>0.119470</td>\n",
       "      <td>3.098687</td>\n",
       "      <td>0.771802</td>\n",
       "      <td>3.155710</td>\n",
       "      <td>1.514751</td>\n",
       "    </tr>\n",
       "    <tr>\n",
       "      <th>6466</th>\n",
       "      <td>Zimbabwe</td>\n",
       "      <td>ZWE</td>\n",
       "      <td>2016</td>\n",
       "      <td>0.157111</td>\n",
       "      <td>0.610234</td>\n",
       "      <td>0.121456</td>\n",
       "      <td>3.104294</td>\n",
       "      <td>0.772275</td>\n",
       "      <td>3.174134</td>\n",
       "      <td>1.513269</td>\n",
       "    </tr>\n",
       "    <tr>\n",
       "      <th>6467</th>\n",
       "      <td>Zimbabwe</td>\n",
       "      <td>ZWE</td>\n",
       "      <td>2017</td>\n",
       "      <td>0.157963</td>\n",
       "      <td>0.611242</td>\n",
       "      <td>0.124443</td>\n",
       "      <td>3.110926</td>\n",
       "      <td>0.772648</td>\n",
       "      <td>3.192789</td>\n",
       "      <td>1.510943</td>\n",
       "    </tr>\n",
       "  </tbody>\n",
       "</table>\n",
       "<p>6468 rows × 10 columns</p>\n",
       "</div>"
      ],
      "text/plain": [
       "           Entity Code  Year  Schizophrenia (%)  Bipolar disorder (%)  \\\n",
       "0     Afghanistan  AFG  1990           0.160560              0.697779   \n",
       "1     Afghanistan  AFG  1991           0.160312              0.697961   \n",
       "2     Afghanistan  AFG  1992           0.160135              0.698107   \n",
       "3     Afghanistan  AFG  1993           0.160037              0.698257   \n",
       "4     Afghanistan  AFG  1994           0.160022              0.698469   \n",
       "...           ...  ...   ...                ...                   ...   \n",
       "6463     Zimbabwe  ZWE  2013           0.155670              0.607993   \n",
       "6464     Zimbabwe  ZWE  2014           0.155993              0.608610   \n",
       "6465     Zimbabwe  ZWE  2015           0.156465              0.609363   \n",
       "6466     Zimbabwe  ZWE  2016           0.157111              0.610234   \n",
       "6467     Zimbabwe  ZWE  2017           0.157963              0.611242   \n",
       "\n",
       "      Eating disorders (%)  Anxiety disorders (%)  Drug use disorders (%)  \\\n",
       "0                 0.101855               4.828830                1.677082   \n",
       "1                 0.099313               4.829740                1.684746   \n",
       "2                 0.096692               4.831108                1.694334   \n",
       "3                 0.094336               4.830864                1.705320   \n",
       "4                 0.092439               4.829423                1.716069   \n",
       "...                    ...                    ...                     ...   \n",
       "6463              0.117248               3.090168                0.766280   \n",
       "6464              0.118073               3.093964                0.768914   \n",
       "6465              0.119470               3.098687                0.771802   \n",
       "6466              0.121456               3.104294                0.772275   \n",
       "6467              0.124443               3.110926                0.772648   \n",
       "\n",
       "      Depression (%)  Alcohol use disorders (%)  \n",
       "0           4.071831                   0.672404  \n",
       "1           4.079531                   0.671768  \n",
       "2           4.088358                   0.670644  \n",
       "3           4.096190                   0.669738  \n",
       "4           4.099582                   0.669260  \n",
       "...              ...                        ...  \n",
       "6463        3.128192                   1.515641  \n",
       "6464        3.140290                   1.515470  \n",
       "6465        3.155710                   1.514751  \n",
       "6466        3.174134                   1.513269  \n",
       "6467        3.192789                   1.510943  \n",
       "\n",
       "[6468 rows x 10 columns]"
      ]
     },
     "metadata": {},
     "execution_count": 7
    }
   ],
   "metadata": {}
  },
  {
   "cell_type": "code",
   "execution_count": 30,
   "source": [
    "x=dataset[['Schizophrenia (%)','Bipolar disorder (%)','Anxiety disorders (%)','Drug use disorders (%)','Alcohol use disorders (%)']]\r\n",
    "y=dataset['Depression (%)']\r\n"
   ],
   "outputs": [],
   "metadata": {}
  },
  {
   "cell_type": "code",
   "execution_count": 31,
   "source": [
    "from sklearn.model_selection import train_test_split\r\n",
    "X_train, X_test, y_train, y_test = train_test_split(x, y, test_size=0.3)\r\n"
   ],
   "outputs": [],
   "metadata": {}
  },
  {
   "cell_type": "code",
   "execution_count": 41,
   "source": [
    "from sklearn.ensemble import RandomForestRegressor\r\n",
    "\r\n",
    "rf = RandomForestRegressor(n_estimators = 1000, random_state = 42)\r\n",
    "rf.fit(X_train, y_train)"
   ],
   "outputs": [
    {
     "output_type": "execute_result",
     "data": {
      "text/plain": [
       "RandomForestRegressor(n_estimators=1000, random_state=42)"
      ]
     },
     "metadata": {},
     "execution_count": 41
    }
   ],
   "metadata": {}
  },
  {
   "cell_type": "code",
   "execution_count": 46,
   "source": [
    "predictions = rf.predict(X_test)\r\n",
    "predictions\r\n",
    "errors = abs(predictions - y_test)\r\n",
    "errors\r\n",
    "print('Mean Absolute Error:', round(np.mean(errors), 2), 'degrees.')\r\n"
   ],
   "outputs": [
    {
     "output_type": "stream",
     "name": "stdout",
     "text": [
      "Mean Absolute Error: 0.03 degrees.\n"
     ]
    }
   ],
   "metadata": {}
  },
  {
   "cell_type": "code",
   "execution_count": 47,
   "source": [
    "mape = 100 * (errors / y_test)\r\n",
    "accuracy = 100 - np.mean(mape)\r\n",
    "print('Accuracy:', round(accuracy, 2), '%.')"
   ],
   "outputs": [
    {
     "output_type": "stream",
     "name": "stdout",
     "text": [
      "Accuracy: 99.17 %.\n"
     ]
    }
   ],
   "metadata": {}
  },
  {
   "cell_type": "code",
   "execution_count": null,
   "source": [],
   "outputs": [],
   "metadata": {}
  }
 ],
 "metadata": {
  "orig_nbformat": 4,
  "language_info": {
   "name": "python",
   "version": "3.9.2",
   "mimetype": "text/x-python",
   "codemirror_mode": {
    "name": "ipython",
    "version": 3
   },
   "pygments_lexer": "ipython3",
   "nbconvert_exporter": "python",
   "file_extension": ".py"
  },
  "kernelspec": {
   "name": "python3",
   "display_name": "Python 3.9.2 64-bit"
  },
  "interpreter": {
   "hash": "63fd5069d213b44bf678585dea6b12cceca9941eaf7f819626cde1f2670de90d"
  }
 },
 "nbformat": 4,
 "nbformat_minor": 2
}